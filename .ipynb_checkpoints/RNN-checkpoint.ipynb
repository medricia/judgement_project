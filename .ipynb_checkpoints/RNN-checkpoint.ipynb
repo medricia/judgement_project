{
 "cells": [
  {
   "cell_type": "code",
   "execution_count": 1,
   "id": "19a1884b",
   "metadata": {},
   "outputs": [],
   "source": [
    "import tensorflow as tf\n",
    "import re\n",
    "import pandas as pd\n",
    "import numpy as np\n",
    "import nltk\n",
    "from nltk.corpus import stopwords"
   ]
  },
  {
   "cell_type": "code",
   "execution_count": 2,
   "id": "c8da4277",
   "metadata": {},
   "outputs": [],
   "source": [
    "#데이터 불러오기\n",
    "train = pd.read_csv(\"../data/train.csv\")\n",
    "test = pd.read_csv(\"../data/test.csv\")\n",
    "submit = pd.read_csv(\"../data/sample_submission.csv\")\n",
    "\n",
    "x_data = train[\"facts\"]\n",
    "y_data = train[\"first_party_winner\"]"
   ]
  },
  {
   "cell_type": "markdown",
   "id": "d396383a",
   "metadata": {},
   "source": [
    "# 함수 만들기 전 데이터 전처리 과정 확인"
   ]
  },
  {
   "cell_type": "code",
   "execution_count": 3,
   "id": "eac9cef6",
   "metadata": {},
   "outputs": [
    {
     "ename": "KeyError",
     "evalue": "'facts'",
     "output_type": "error",
     "traceback": [
      "\u001b[1;31m---------------------------------------------------------------------------\u001b[0m",
      "\u001b[1;31mKeyError\u001b[0m                                  Traceback (most recent call last)",
      "Cell \u001b[1;32mIn[3], line 2\u001b[0m\n\u001b[0;32m      1\u001b[0m \u001b[38;5;66;03m#필요한 데이터 나누기\u001b[39;00m\n\u001b[1;32m----> 2\u001b[0m facts \u001b[38;5;241m=\u001b[39m \u001b[43mfacts\u001b[49m\u001b[43m[\u001b[49m\u001b[38;5;124;43m\"\u001b[39;49m\u001b[38;5;124;43mfacts\u001b[39;49m\u001b[38;5;124;43m\"\u001b[39;49m\u001b[43m]\u001b[49m[\u001b[38;5;241m0\u001b[39m]\n\u001b[0;32m      3\u001b[0m y_data \u001b[38;5;241m=\u001b[39m train[\u001b[38;5;124m\"\u001b[39m\u001b[38;5;124mfirst_party_winner\u001b[39m\u001b[38;5;124m\"\u001b[39m]\n",
      "File \u001b[1;32m~\\anaconda3\\envs\\tf_cpu\\lib\\site-packages\\pandas\\core\\series.py:981\u001b[0m, in \u001b[0;36mSeries.__getitem__\u001b[1;34m(self, key)\u001b[0m\n\u001b[0;32m    978\u001b[0m     \u001b[38;5;28;01mreturn\u001b[39;00m \u001b[38;5;28mself\u001b[39m\u001b[38;5;241m.\u001b[39m_values[key]\n\u001b[0;32m    980\u001b[0m \u001b[38;5;28;01melif\u001b[39;00m key_is_scalar:\n\u001b[1;32m--> 981\u001b[0m     \u001b[38;5;28;01mreturn\u001b[39;00m \u001b[38;5;28;43mself\u001b[39;49m\u001b[38;5;241;43m.\u001b[39;49m\u001b[43m_get_value\u001b[49m\u001b[43m(\u001b[49m\u001b[43mkey\u001b[49m\u001b[43m)\u001b[49m\n\u001b[0;32m    983\u001b[0m \u001b[38;5;28;01mif\u001b[39;00m is_hashable(key):\n\u001b[0;32m    984\u001b[0m     \u001b[38;5;66;03m# Otherwise index.get_value will raise InvalidIndexError\u001b[39;00m\n\u001b[0;32m    985\u001b[0m     \u001b[38;5;28;01mtry\u001b[39;00m:\n\u001b[0;32m    986\u001b[0m         \u001b[38;5;66;03m# For labels that don't resolve as scalars like tuples and frozensets\u001b[39;00m\n",
      "File \u001b[1;32m~\\anaconda3\\envs\\tf_cpu\\lib\\site-packages\\pandas\\core\\series.py:1089\u001b[0m, in \u001b[0;36mSeries._get_value\u001b[1;34m(self, label, takeable)\u001b[0m\n\u001b[0;32m   1086\u001b[0m     \u001b[38;5;28;01mreturn\u001b[39;00m \u001b[38;5;28mself\u001b[39m\u001b[38;5;241m.\u001b[39m_values[label]\n\u001b[0;32m   1088\u001b[0m \u001b[38;5;66;03m# Similar to Index.get_value, but we do not fall back to positional\u001b[39;00m\n\u001b[1;32m-> 1089\u001b[0m loc \u001b[38;5;241m=\u001b[39m \u001b[38;5;28;43mself\u001b[39;49m\u001b[38;5;241;43m.\u001b[39;49m\u001b[43mindex\u001b[49m\u001b[38;5;241;43m.\u001b[39;49m\u001b[43mget_loc\u001b[49m\u001b[43m(\u001b[49m\u001b[43mlabel\u001b[49m\u001b[43m)\u001b[49m\n\u001b[0;32m   1090\u001b[0m \u001b[38;5;28;01mreturn\u001b[39;00m \u001b[38;5;28mself\u001b[39m\u001b[38;5;241m.\u001b[39mindex\u001b[38;5;241m.\u001b[39m_get_values_for_loc(\u001b[38;5;28mself\u001b[39m, loc, label)\n",
      "File \u001b[1;32m~\\anaconda3\\envs\\tf_cpu\\lib\\site-packages\\pandas\\core\\indexes\\range.py:395\u001b[0m, in \u001b[0;36mRangeIndex.get_loc\u001b[1;34m(self, key, method, tolerance)\u001b[0m\n\u001b[0;32m    393\u001b[0m             \u001b[38;5;28;01mraise\u001b[39;00m \u001b[38;5;167;01mKeyError\u001b[39;00m(key) \u001b[38;5;28;01mfrom\u001b[39;00m \u001b[38;5;21;01merr\u001b[39;00m\n\u001b[0;32m    394\u001b[0m     \u001b[38;5;28mself\u001b[39m\u001b[38;5;241m.\u001b[39m_check_indexing_error(key)\n\u001b[1;32m--> 395\u001b[0m     \u001b[38;5;28;01mraise\u001b[39;00m \u001b[38;5;167;01mKeyError\u001b[39;00m(key)\n\u001b[0;32m    396\u001b[0m \u001b[38;5;28;01mreturn\u001b[39;00m \u001b[38;5;28msuper\u001b[39m()\u001b[38;5;241m.\u001b[39mget_loc(key, method\u001b[38;5;241m=\u001b[39mmethod, tolerance\u001b[38;5;241m=\u001b[39mtolerance)\n",
      "\u001b[1;31mKeyError\u001b[0m: 'facts'"
     ]
    }
   ],
   "source": [
    "#필요한 데이터 나누기\n",
    "x_data_t = facts[\"facts\"][0]\n",
    "y_data = train[\"first_party_winner\"]"
   ]
  },
  {
   "cell_type": "code",
   "execution_count": null,
   "id": "4f8c921b",
   "metadata": {},
   "outputs": [],
   "source": [
    "print(x_data_t)"
   ]
  },
  {
   "cell_type": "code",
   "execution_count": null,
   "id": "e52f976f",
   "metadata": {},
   "outputs": [],
   "source": [
    "# 데이터 전처리\n",
    "# facts 알파벳 아닌 것은 공백으로 만들기\n",
    "x_data_t = re.sub(\"[^a-zA-Z]\", \" \", x_data_t)"
   ]
  },
  {
   "cell_type": "code",
   "execution_count": null,
   "id": "a76623cd",
   "metadata": {},
   "outputs": [],
   "source": [
    "print(x_data_t)"
   ]
  },
  {
   "cell_type": "code",
   "execution_count": null,
   "id": "5826f57a",
   "metadata": {},
   "outputs": [],
   "source": [
    "# 불용어 삭제\n",
    "stop_words = set(stopwords.words('english'))\n",
    "opinion = x_data_t.lower()"
   ]
  },
  {
   "cell_type": "code",
   "execution_count": null,
   "id": "29173ae2",
   "metadata": {},
   "outputs": [],
   "source": [
    "opinion_words = opinion.split()\n",
    "opinion_words = [w for w in opinion_words if not w in stop_words]\n",
    "print(opinion_words)"
   ]
  },
  {
   "cell_type": "code",
   "execution_count": null,
   "id": "073180bd",
   "metadata": {},
   "outputs": [],
   "source": [
    "# 하나로 이어주기\n",
    "opinion_refine = ' '.join(opinion_words)\n",
    "print(opinion_refine)"
   ]
  },
  {
   "cell_type": "markdown",
   "id": "c4029be1",
   "metadata": {},
   "source": [
    "# 전처리 함수 만들기"
   ]
  },
  {
   "cell_type": "code",
   "execution_count": null,
   "id": "674723ba",
   "metadata": {},
   "outputs": [],
   "source": [
    "def preprocessing (x_data, remove_stopwords=False) :\n",
    "    x_data = str(train[\"facts\"])\n",
    "    x_data = re.sub(\"[^a-zA-Z]\", \" \", x_data)\n",
    "    opinion = x_data.lower().split()\n",
    "    \n",
    "    if remove_stopwords :\n",
    "        stops = set(stopwords.words(\"english\"))\n",
    "        opinion = [w for w in opinion if not w in stops]\n",
    "        opinion_refine = ' '.join(opinion)\n",
    "    else :\n",
    "        opinion_refine = ' '.join(opinion)\n",
    "    \n",
    "    return opinion_refine"
   ]
  },
  {
   "cell_type": "code",
   "execution_count": null,
   "id": "b5108359",
   "metadata": {},
   "outputs": [],
   "source": [
    "# for문으로 전처리한 글자 넣기\n",
    "facts_opnions = []\n",
    "for opinion in train['facts'] :\n",
    "    facts_opnions.append(preprocessing(x_data, remove_stopwords=False))"
   ]
  },
  {
   "cell_type": "code",
   "execution_count": null,
   "id": "cc84d09d",
   "metadata": {},
   "outputs": [],
   "source": [
    "# 잘 되는지 확인하기\n",
    "facts_opnions[2473]"
   ]
  },
  {
   "cell_type": "code",
   "execution_count": null,
   "id": "e65ded61",
   "metadata": {},
   "outputs": [],
   "source": [
    "print(train['facts'])"
   ]
  },
  {
   "cell_type": "code",
   "execution_count": null,
   "id": "d6e3aa1c",
   "metadata": {},
   "outputs": [],
   "source": []
  }
 ],
 "metadata": {
  "kernelspec": {
   "display_name": "Python [conda env:tf_cpu] *",
   "language": "python",
   "name": "conda-env-tf_cpu-py"
  },
  "language_info": {
   "codemirror_mode": {
    "name": "ipython",
    "version": 3
   },
   "file_extension": ".py",
   "mimetype": "text/x-python",
   "name": "python",
   "nbconvert_exporter": "python",
   "pygments_lexer": "ipython3",
   "version": "3.8.16"
  }
 },
 "nbformat": 4,
 "nbformat_minor": 5
}
