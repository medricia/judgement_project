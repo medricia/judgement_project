{
 "cells": [
  {
   "cell_type": "code",
   "execution_count": 1,
   "id": "2a562729",
   "metadata": {},
   "outputs": [],
   "source": [
    "import tensorflow as tf\n",
    "import re\n",
    "import pandas as pd\n",
    "import numpy as np"
   ]
  },
  {
   "cell_type": "code",
   "execution_count": 2,
   "id": "bf44d39e",
   "metadata": {},
   "outputs": [],
   "source": [
    "#데이터 불러오기\n",
    "train = pd.read_csv(\"../data/train.csv\")\n",
    "test = pd.read_csv(\"../data/test.csv\")\n",
    "submit = pd.read_csv(\"../data/sample_submission.csv\")\n",
    "\n",
    "#필요한 데이터 나누기\n",
    "x_data = train[\"facts\"]\n",
    "y_data = train[\"first_party_winner\"]"
   ]
  },
  {
   "cell_type": "code",
   "execution_count": 3,
   "id": "13adf910",
   "metadata": {},
   "outputs": [],
   "source": [
    "#facts 전처리(영어만 사용가능하게, 소문자화, 공백없애기)\n",
    "x_data = re.sub(r\"[^\\x00-\\x7F]\", \" \", \"\".join(x_data))\n",
    "x_data = re.sub(r\"\\s+\", \" \", x_data)\n",
    "x_data = re.sub(r\"!\", \"\", x_data)\n",
    "x_data = re.sub(r\"\\W+\", \"\", x_data)\n",
    "\n",
    "x_data = tf.strings.lower(x_data)\n",
    "x_data = tf.strings.strip(x_data)"
   ]
  },
  {
   "cell_type": "code",
   "execution_count": 4,
   "id": "df9a2761",
   "metadata": {},
   "outputs": [
    {
     "ename": "ValueError",
     "evalue": "invalid literal for int() with base 10: b'onjune271962philstamantacandidateforpublicofficemadeatelevisionspeechinbatonrougelouisianaduringthisspeechstamantaccusedhispoliticalopponentofbeingacommunistandofbeinginvolvedincriminalactivitieswit",
     "output_type": "error",
     "traceback": [
      "\u001b[1;31m---------------------------------------------------------------------------\u001b[0m",
      "\u001b[1;31mValueError\u001b[0m                                Traceback (most recent call last)",
      "Cell \u001b[1;32mIn[4], line 2\u001b[0m\n\u001b[0;32m      1\u001b[0m \u001b[38;5;66;03m# 텍스트를 int32로 변환\u001b[39;00m\n\u001b[1;32m----> 2\u001b[0m x_data_int \u001b[38;5;241m=\u001b[39m \u001b[38;5;28;43mint\u001b[39;49m\u001b[43m(\u001b[49m\u001b[43mx_data\u001b[49m\u001b[43m)\u001b[49m\n",
      "File \u001b[1;32m~\\anaconda3\\envs\\tf_cpu\\lib\\site-packages\\tensorflow\\python\\framework\\ops.py:1056\u001b[0m, in \u001b[0;36m_EagerTensorBase.__int__\u001b[1;34m(self)\u001b[0m\n\u001b[0;32m   1055\u001b[0m \u001b[38;5;28;01mdef\u001b[39;00m \u001b[38;5;21m__int__\u001b[39m(\u001b[38;5;28mself\u001b[39m):\n\u001b[1;32m-> 1056\u001b[0m   \u001b[38;5;28;01mreturn\u001b[39;00m \u001b[38;5;28;43mint\u001b[39;49m\u001b[43m(\u001b[49m\u001b[38;5;28;43mself\u001b[39;49m\u001b[38;5;241;43m.\u001b[39;49m\u001b[43m_numpy\u001b[49m\u001b[43m(\u001b[49m\u001b[43m)\u001b[49m\u001b[43m)\u001b[49m\n",
      "\u001b[1;31mValueError\u001b[0m: invalid literal for int() with base 10: b'onjune271962philstamantacandidateforpublicofficemadeatelevisionspeechinbatonrougelouisianaduringthisspeechstamantaccusedhispoliticalopponentofbeingacommunistandofbeinginvolvedincriminalactivitieswit"
     ]
    }
   ],
   "source": [
    "# 텍스트를 int32로 변환\n",
    "x_data_int = int(x_data)"
   ]
  },
  {
   "cell_type": "code",
   "execution_count": null,
   "id": "175a1c84",
   "metadata": {},
   "outputs": [],
   "source": [
    "# facts데이터 벡터화하기\n",
    "vectorizer = tf.keras.layers.Embedding(input_dim=1000, output_dim=128)\n",
    "x_data_vec = vectorizer(x_data_int)"
   ]
  },
  {
   "cell_type": "code",
   "execution_count": null,
   "id": "6d5f9f76",
   "metadata": {},
   "outputs": [],
   "source": [
    "model = tf.keras.Sequential([\n",
    "  tf.keras.layers.Dense(units=128, activation='relu', kernel_initializer='glorot_normal'),\n",
    "  tf.keras.layers.Dense(units=64, activation='relu', kernel_initializer='glorot_normal'),\n",
    "  tf.keras.layers.Dense(units=1, activation='sigmoid', kernel_initializer='glorot_normal')\n",
    "])"
   ]
  },
  {
   "cell_type": "code",
   "execution_count": null,
   "id": "161b9c99",
   "metadata": {},
   "outputs": [],
   "source": [
    "model.compile(optimizer='adam', loss='binary_crossentropy', metrics=['accuracy'])"
   ]
  },
  {
   "cell_type": "code",
   "execution_count": null,
   "id": "610b88ee",
   "metadata": {},
   "outputs": [],
   "source": [
    "model.fit(x_data_vec,y_data, epochs=1000)"
   ]
  },
  {
   "cell_type": "code",
   "execution_count": null,
   "id": "e2dd0d2a",
   "metadata": {},
   "outputs": [],
   "source": [
    "model.evaluate(x_data_vec, y_data)"
   ]
  },
  {
   "cell_type": "code",
   "execution_count": null,
   "id": "1fa99bd4",
   "metadata": {},
   "outputs": [],
   "source": []
  },
  {
   "cell_type": "code",
   "execution_count": null,
   "id": "b22f6c1b",
   "metadata": {},
   "outputs": [],
   "source": [
    "#---- pred 부터!!!"
   ]
  },
  {
   "cell_type": "code",
   "execution_count": null,
   "id": "a4139349",
   "metadata": {},
   "outputs": [],
   "source": []
  },
  {
   "cell_type": "code",
   "execution_count": null,
   "id": "86aac924",
   "metadata": {},
   "outputs": [],
   "source": [
    "#pred = model.predict(test_x)"
   ]
  },
  {
   "cell_type": "code",
   "execution_count": null,
   "id": "43644b21",
   "metadata": {},
   "outputs": [],
   "source": []
  }
 ],
 "metadata": {
  "kernelspec": {
   "display_name": "Python [conda env:tf_cpu] *",
   "language": "python",
   "name": "conda-env-tf_cpu-py"
  },
  "language_info": {
   "codemirror_mode": {
    "name": "ipython",
    "version": 3
   },
   "file_extension": ".py",
   "mimetype": "text/x-python",
   "name": "python",
   "nbconvert_exporter": "python",
   "pygments_lexer": "ipython3",
   "version": "3.8.16"
  }
 },
 "nbformat": 4,
 "nbformat_minor": 5
}
